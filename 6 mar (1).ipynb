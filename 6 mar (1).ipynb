{
 "cells": [
  {
   "cell_type": "code",
   "execution_count": null,
   "id": "0ee1e322-c8f5-4d5e-8bc0-c2677a87892a",
   "metadata": {},
   "outputs": [],
   "source": [
    "'''Ans1:- Statistics is the science of study of data in the form of visualization, organizing data and \n",
    "inferring the new information form that data.'''"
   ]
  },
  {
   "cell_type": "code",
   "execution_count": null,
   "id": "084255e6-2acb-4383-a09f-be2b08b72dbf",
   "metadata": {},
   "outputs": [],
   "source": [
    "'''Ans2:- The different type of statistics:\n",
    "\n",
    "1. Descriptive statistics:- In this type of statistics we summerise the data and try to get single value \n",
    "from that data such as averge height, more reccured age etc\n",
    "\n",
    "2. Inferential statistics:- In this type of statistics we get conclusion form the data to get new information\n",
    "from that data. such as 'Is the average height of students is same as of college.'''"
   ]
  },
  {
   "cell_type": "code",
   "execution_count": null,
   "id": "33e7cdff-6787-4a71-b632-4bf80da8d541",
   "metadata": {},
   "outputs": [],
   "source": [
    "'''Ans3:- The different types of data are:\n",
    "\n",
    "1. Qualitative data:-This type of data include data on which we can perform mathematical operation, such as \n",
    "subtraction, addition, multiply etc. It is also called numeric data. \n",
    "for example:- age, height etc.\n",
    "\n",
    "2. Quantitative data:- This type of data include the data on which the we can't perform any mathematical \n",
    "operation and the data is categorical.\n",
    "for example:- gender, caste etc'''"
   ]
  },
  {
   "cell_type": "code",
   "execution_count": null,
   "id": "3522f2c5-0152-4322-bd2f-958996a3fc98",
   "metadata": {},
   "outputs": [],
   "source": [
    "'''Ans4:-\n",
    "(i) Grading in exam: A+, A, B+, B, C+, C, D, E:- (QUANTATIVE DATA)\n",
    "(ii) Colour of mangoes: yellow, green, orange, red:- (QUANTITATIVE DATA)\n",
    "(iii) Height data of a class: [178.9, 179, 179.5, 176, 177.2, 178.3, 175.8,...]:- (QUALITATIVE DATA)\n",
    "(iv) Number of mangoes exported by a farm: [500, 600, 478, 672, ...]:- (QUALITATIVE DATA)\n",
    "'''"
   ]
  },
  {
   "cell_type": "code",
   "execution_count": null,
   "id": "f716819b-7007-4760-b1d8-42de441238d8",
   "metadata": {},
   "outputs": [],
   "source": [
    "'''Ans5: level of measurement is a classification that relates the values that are assigned to variables with \n",
    "each other. In other words, level of measurement is used to describe information within the values.\n",
    "\n",
    "The various scale of measurements are:\n",
    "1. Nominal Scale Data:- eg. Gender\n",
    "2. Ordinal Scale Data:- eg. Ranking\n",
    "3. Interval Scale Data:- eg. Temperature\n",
    "4. Ratio Scale Data:- eg. Height\n",
    "'''"
   ]
  },
  {
   "cell_type": "code",
   "execution_count": null,
   "id": "c5934fe4-420e-48bf-818a-3ac1471d1133",
   "metadata": {},
   "outputs": [],
   "source": [
    "'''Ans6:- It is very important to know the level of measurement of the data because it helps to apply the right statistical analysis on the data according to its scale of mesurement. such as:\n",
    "\n",
    "lets take the a data to evaluate that how much effective different gym trainers are in a perticular area,\n",
    "if we take only the physical measurement of trainee of different gyms then the data is nominal and we can easily \n",
    "use discriptive statistics such as percentage of size comparision to evaluate the effectiveness of gym triners \n",
    "if we use other factors also such as the weight lifted by each trainee then we take data as ordinal and other \n",
    "for which we have to use the other statistical techniques.'''"
   ]
  },
  {
   "cell_type": "raw",
   "id": "7dd7a921-4920-4575-a2ed-8cc5c4e1bdb3",
   "metadata": {},
   "source": [
    "Ans7:- The nominal data type is different from the ordinal one because of following reasons:-\n",
    "i. In nominal data type the order of data is not important but in ordinal the order of data is important.\n",
    "ii. In nominal data type we can't rank the data but the ordinal data can be ranked.\n",
    "iii. In nominal data we can measure the difference while in ordinal we can't."
   ]
  },
  {
   "cell_type": "raw",
   "id": "7b0f5ed6-469d-408c-a9d9-999ad36fe66b",
   "metadata": {},
   "source": [
    "Ans8:- A box plot can be used to display the data in terms of range as the box plot displays the various informations such as the mode, median, mean of data along with the distribution of data in the form of the box"
   ]
  },
  {
   "cell_type": "raw",
   "id": "122e6c6f-439d-4b1b-834a-bdfba842a73b",
   "metadata": {},
   "source": [
    "Ans9:- The difference between the descriptive and inferential statistics are:-\n",
    "i. The descriptive statistics include all the summery of data while inferential statistics include the new conclusion from the data.\n",
    "ii. descriptive statistics involves overview of data while inferential statistics include making prediction from the data.\n",
    "iii. descriptive statistics include all the data for the mathematical calculation while inferential statistics include only sample data that can predict the overall population of data."
   ]
  },
  {
   "cell_type": "raw",
   "id": "0559ae96-755b-4f7f-b20c-a7765a514be2",
   "metadata": {},
   "source": [
    "Ans10: \n",
    "Common measure of central tendency:-\n",
    "i. Mean:- Mean is used to calculate the average of the data in a dataset it gives us breif view of data.\n",
    "ii. Median:- Median is the middle value in a datatset when it is in ascending order of descending order.\n",
    "iii. Mode:- Mode is the most recurred value in the dataset it gives us information about which value is most common  in the dataset.\n",
    "\n",
    "Common measure of variability are:-\n",
    "i. Range:- The range is the difference between the highest and lowest values in a dataset. It provides a measure of the spread of the data from the lowest to the highest value.\n",
    "ii. Variance: The variance is the average of the squared differences of each value from the mean. It measures the spread of the data around the mean, and a higher variance indicates a wider distribution of values in the data."
   ]
  }
 ],
 "metadata": {
  "kernelspec": {
   "display_name": "Python 3 (ipykernel)",
   "language": "python",
   "name": "python3"
  },
  "language_info": {
   "codemirror_mode": {
    "name": "ipython",
    "version": 3
   },
   "file_extension": ".py",
   "mimetype": "text/x-python",
   "name": "python",
   "nbconvert_exporter": "python",
   "pygments_lexer": "ipython3",
   "version": "3.10.8"
  }
 },
 "nbformat": 4,
 "nbformat_minor": 5
}
